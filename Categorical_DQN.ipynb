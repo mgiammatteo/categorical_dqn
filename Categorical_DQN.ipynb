{
 "cells": [
  {
   "cell_type": "markdown",
   "metadata": {},
   "source": [
    "# Categorical Deep Q-Network\n",
    "---\n",
    "In this notebook, we will implement a Distributional version of DQN, called Categorical DQN. We apply it to the OpenAI Gym's LunarLander-v2 environment.\n",
    "\n",
    "### 1. Import the Necessary Packages"
   ]
  },
  {
   "cell_type": "code",
   "execution_count": 1,
   "metadata": {},
   "outputs": [],
   "source": [
    "import gym\n",
    "import random\n",
    "import torch\n",
    "import numpy as np\n",
    "from collections import deque\n",
    "import matplotlib.pyplot as plt\n",
    "%matplotlib inline"
   ]
  },
  {
   "cell_type": "markdown",
   "metadata": {},
   "source": [
    "### 2. Instantiate the Environment and Agent\n",
    "\n",
    "Initialize the environment in the code cell below."
   ]
  },
  {
   "cell_type": "code",
   "execution_count": 2,
   "metadata": {},
   "outputs": [
    {
     "name": "stdout",
     "output_type": "stream",
     "text": [
      "State shape:  (4,)\n",
      "Number of actions:  2\n"
     ]
    }
   ],
   "source": [
    "#env = gym.make('LunarLander-v2')\n",
    "env = gym.make('CartPole-v0')\n",
    "env.seed(0)\n",
    "print('State shape: ', env.observation_space.shape)\n",
    "print('Number of actions: ', env.action_space.n)"
   ]
  },
  {
   "cell_type": "code",
   "execution_count": 3,
   "metadata": {},
   "outputs": [],
   "source": [
    "from categorical_dqn_agent import Agent\n",
    "\n",
    "agent = Agent(state_size=4, action_size=2, seed=0, num_atoms=51, V_min=-10, V_max=10)\n",
    "\n",
    "# watch an untrained agent\n",
    "state = env.reset()\n",
    "for j in range(20):\n",
    "    action = agent.act(state)\n",
    "    env.render()\n",
    "    state, reward, done, _ = env.step(action)\n",
    "    if done:\n",
    "        break \n",
    "        \n",
    "env.close()"
   ]
  },
  {
   "cell_type": "markdown",
   "metadata": {},
   "source": [
    "### 3. Train the Agent with Categorical DQN\n",
    "\n",
    "Run the code cell below to train the agent from scratch.  You are welcome to amend the supplied values of the parameters in the function, to try to see if you can get better performance!"
   ]
  },
  {
   "cell_type": "code",
   "execution_count": 4,
   "metadata": {},
   "outputs": [
    {
     "name": "stdout",
     "output_type": "stream",
     "text": [
      "Episode 100\tAverage Score: 11.93\n",
      "Episode 200\tAverage Score: 9.680\n",
      "Episode 300\tAverage Score: 9.52\n",
      "Episode 400\tAverage Score: 10.20\n",
      "Episode 500\tAverage Score: 11.05\n",
      "Episode 600\tAverage Score: 10.65\n",
      "Episode 700\tAverage Score: 11.00\n",
      "Episode 800\tAverage Score: 9.989\n",
      "Episode 900\tAverage Score: 9.830\n",
      "Episode 1000\tAverage Score: 9.76\n",
      "Episode 1100\tAverage Score: 9.64\n",
      "Episode 1200\tAverage Score: 9.77\n",
      "Episode 1300\tAverage Score: 9.80\n",
      "Episode 1400\tAverage Score: 9.69\n",
      "Episode 1500\tAverage Score: 9.61\n",
      "Episode 1600\tAverage Score: 9.47\n",
      "Episode 1700\tAverage Score: 9.70\n",
      "Episode 1800\tAverage Score: 9.55\n",
      "Episode 1900\tAverage Score: 9.870\n",
      "Episode 2000\tAverage Score: 9.80\n",
      "Episode 2100\tAverage Score: 10.17\n",
      "Episode 2200\tAverage Score: 9.770\n",
      "Episode 2300\tAverage Score: 9.40\n",
      "Episode 2400\tAverage Score: 9.75\n",
      "Episode 2500\tAverage Score: 9.82\n",
      "Episode 2600\tAverage Score: 9.69\n",
      "Episode 2700\tAverage Score: 9.69\n",
      "Episode 2800\tAverage Score: 9.64\n",
      "Episode 2900\tAverage Score: 9.71\n",
      "Episode 3000\tAverage Score: 9.58\n",
      "Episode 3100\tAverage Score: 9.56\n",
      "Episode 3200\tAverage Score: 9.69\n",
      "Episode 3300\tAverage Score: 9.44\n",
      "Episode 3400\tAverage Score: 10.74\n",
      "Episode 3500\tAverage Score: 10.29\n",
      "Episode 3600\tAverage Score: 9.581\n",
      "Episode 3700\tAverage Score: 16.61\n",
      "Episode 3800\tAverage Score: 14.69\n",
      "Episode 3900\tAverage Score: 104.28\n",
      "Episode 4000\tAverage Score: 159.86\n",
      "Episode 4100\tAverage Score: 114.79\n",
      "Episode 4200\tAverage Score: 131.46\n",
      "Episode 4300\tAverage Score: 157.38\n",
      "Episode 4400\tAverage Score: 146.04\n",
      "Episode 4500\tAverage Score: 144.30\n",
      "Episode 4600\tAverage Score: 155.17\n",
      "Episode 4700\tAverage Score: 139.24\n",
      "Episode 4800\tAverage Score: 141.22\n",
      "Episode 4900\tAverage Score: 149.63\n",
      "Episode 5000\tAverage Score: 150.19\n",
      "Episode 5100\tAverage Score: 162.30\n",
      "Episode 5200\tAverage Score: 143.96\n",
      "Episode 5300\tAverage Score: 135.32\n",
      "Episode 5400\tAverage Score: 137.06\n",
      "Episode 5500\tAverage Score: 148.17\n",
      "Episode 5600\tAverage Score: 161.39\n",
      "Episode 5700\tAverage Score: 158.66\n",
      "Episode 5800\tAverage Score: 116.57\n",
      "Episode 5900\tAverage Score: 107.60\n",
      "Episode 6000\tAverage Score: 125.58\n",
      "Episode 6100\tAverage Score: 120.18\n",
      "Episode 6200\tAverage Score: 105.48\n",
      "Episode 6300\tAverage Score: 82.977\n",
      "Episode 6400\tAverage Score: 64.20\n",
      "Episode 6500\tAverage Score: 54.63\n",
      "Episode 6600\tAverage Score: 50.98\n",
      "Episode 6700\tAverage Score: 32.00\n",
      "Episode 6800\tAverage Score: 24.85\n",
      "Episode 6900\tAverage Score: 28.65\n",
      "Episode 7000\tAverage Score: 25.98\n",
      "Episode 7100\tAverage Score: 22.81\n",
      "Episode 7200\tAverage Score: 23.94\n",
      "Episode 7300\tAverage Score: 23.84\n",
      "Episode 7400\tAverage Score: 19.98\n",
      "Episode 7500\tAverage Score: 17.75\n",
      "Episode 7600\tAverage Score: 24.50\n",
      "Episode 7700\tAverage Score: 20.75\n",
      "Episode 7800\tAverage Score: 19.08\n",
      "Episode 7900\tAverage Score: 41.63\n",
      "Episode 8000\tAverage Score: 93.70\n",
      "Episode 8100\tAverage Score: 189.78\n",
      "Episode 8115\tAverage Score: 195.14\n",
      "Environment solved in 8015 episodes!\tAverage Score: 195.14\n"
     ]
    },
    {
     "data": {
      "image/png": "[encoded data removed]",
      "text/plain": [
       "<Figure size 432x288 with 1 Axes>"
      ]
     },
     "metadata": {
      "needs_background": "light"
     },
     "output_type": "display_data"
    }
   ],
   "source": [
    "def dqn(n_episodes=20000, max_t=1000, eps_start=1.0, eps_end=0.05, eps_decay=0.995):\n",
    "    \"\"\"Categorical Deep Q-Learning.\n",
    "    \n",
    "    Params\n",
    "    ======\n",
    "        n_episodes (int): maximum number of training episodes\n",
    "        max_t (int): maximum number of timesteps per episode\n",
    "        eps_start (float): starting value of epsilon, for epsilon-greedy action selection\n",
    "        eps_end (float): minimum value of epsilon\n",
    "        eps_decay (float): multiplicative factor (per episode) for decreasing epsilon\n",
    "    \"\"\"\n",
    "    scores = []                        # list containing scores from each episode\n",
    "    scores_window = deque(maxlen=100)  # last 100 scores\n",
    "    eps = eps_start                    # initialize epsilon\n",
    "    for i_episode in range(1, n_episodes+1):\n",
    "        state = env.reset()\n",
    "        score = 0\n",
    "        for t in range(max_t):\n",
    "            action = agent.act(state, eps)\n",
    "            #print(action)\n",
    "            next_state, reward, done, _ = env.step(action)\n",
    "            agent.step(state, action, reward, next_state, done)\n",
    "            state = next_state\n",
    "            score += reward\n",
    "            if done:\n",
    "                break \n",
    "        scores_window.append(score)       # save most recent score\n",
    "        scores.append(score)              # save most recent score\n",
    "        eps = 0.05#max(eps_end, eps_decay*eps) # decrease epsilon\n",
    "        print('\\rEpisode {}\\tAverage Score: {:.2f}'.format(i_episode, np.mean(scores_window)), end=\"\")\n",
    "        if i_episode % 100 == 0:\n",
    "            print('\\rEpisode {}\\tAverage Score: {:.2f}'.format(i_episode, np.mean(scores_window)))\n",
    "        if np.mean(scores_window)>=195.0:\n",
    "            print('\\nEnvironment solved in {:d} episodes!\\tAverage Score: {:.2f}'.format(i_episode-100, np.mean(scores_window)))\n",
    "            torch.save(agent.qnetwork_local.state_dict(), 'checkpoint.pth')\n",
    "            break\n",
    "    return scores\n",
    "\n",
    "scores = dqn()\n",
    "\n",
    "# plot the scores\n",
    "fig = plt.figure()\n",
    "ax = fig.add_subplot(111)\n",
    "plt.plot(np.arange(len(scores)), scores)\n",
    "plt.ylabel('Score')\n",
    "plt.xlabel('Episode #')\n",
    "plt.show()"
   ]
  },
  {
   "cell_type": "markdown",
   "metadata": {},
   "source": [
    "### 4. Watch a Smart Agent!\n",
    "\n",
    "In the next code cell, you will load the trained weights from file to watch a smart agent!"
   ]
  },
  {
   "cell_type": "code",
   "execution_count": 5,
   "metadata": {},
   "outputs": [],
   "source": [
    "# load the weights from file\n",
    "agent.qnetwork_local.load_state_dict(torch.load('checkpoint.pth'))\n",
    "\n",
    "for i in range(3):\n",
    "    state = env.reset()\n",
    "    for j in range(200):\n",
    "        action = agent.act(state)\n",
    "        env.render()\n",
    "        state, reward, done, _ = env.step(action)\n",
    "        if done:\n",
    "            break \n",
    "            \n",
    "env.close()"
   ]
  },
  {
   "cell_type": "code",
   "execution_count": null,
   "metadata": {},
   "outputs": [],
   "source": []
  }
 ],
 "metadata": {
  "kernelspec": {
   "display_name": "drlnd",
   "language": "python",
   "name": "drlnd"
  },
  "language_info": {
   "codemirror_mode": {
    "name": "ipython",
    "version": 3
   },
   "file_extension": ".py",
   "mimetype": "text/x-python",
   "name": "python",
   "nbconvert_exporter": "python",
   "pygments_lexer": "ipython3",
   "version": "3.6.8"
  }
 },
 "nbformat": 4,
 "nbformat_minor": 2
}
